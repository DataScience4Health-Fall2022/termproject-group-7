{
 "cells": [
  {
   "cell_type": "markdown",
   "id": "3af2181a",
   "metadata": {},
   "source": [
    "## Imputation"
   ]
  },
  {
   "cell_type": "markdown",
   "id": "c8b2bdb2",
   "metadata": {},
   "source": [
    "### Step 1. Load the data"
   ]
  },
  {
   "cell_type": "code",
   "execution_count": 137,
   "id": "969d75a8",
   "metadata": {},
   "outputs": [
    {
     "name": "stdout",
     "output_type": "stream",
     "text": [
      "There are in total of  4600  tuples.\n"
     ]
    }
   ],
   "source": [
    "import csv \n",
    "import numpy as np\n",
    "\n",
    "with open('covid_randomrowsa.csv', 'rt') as file:\n",
    "    reader = csv.reader(file)\n",
    "    data = list(reader)\n",
    "\n",
    "# the first row is the feature names\n",
    "print(\"There are in total of \", len(data) - 1, \" tuples.\");"
   ]
  },
  {
   "cell_type": "markdown",
   "id": "a5643d8c",
   "metadata": {},
   "source": [
    "### Step 2. Data Investigation"
   ]
  },
  {
   "cell_type": "markdown",
   "id": "6c6cb8e6",
   "metadata": {},
   "source": [
    "Something need to know before preceeding. The questionnaire contains a series of questions. I will list the question category, the number of questions of that category, the column index in the data file below."
   ]
  },
  {
   "cell_type": "markdown",
   "id": "0c0404e2",
   "metadata": {},
   "source": [
    "| Category Name | Number of Questions | Column Indices |\n",
    "|---------------|---------------------|----------------|\n",
    "|Physical Contact| 5 | 7 - 11 |\n",
    "|Physical Hygiene| 5 | 12 - 16 |\n",
    "|Anti-corona Policy Support| 5 | 17 - 21 | \n",
    "|Generosity| 4 | 22 - 25 |\n",
    "|Psychological Well-being| 2 | 26 - 27 |\n",
    "|Collective Narcissism| 3 | 28 - 30 |\n",
    "|National Identification| 2 | 31 - 32 |\n",
    "|Comspiracy Thoeries| 4 | 33 - 36 | \n",
    "|Open-mindedness| 6 | 37 - 42 | \n",
    "|Morality as Cooperation| 7 | 43 - 49 | \n",
    "|Trait Optimism| 2 | 50 - 51 | \n",
    "|Social Belonging| 4 | 52 - 55 | \n",
    "|Trait Self-control| 4 | 56 - 59 | \n",
    "|Self-esteem| 1 | 60 |\n",
    "|Narcissism| 6 | 61 - 66 | \n",
    "|Moral Identity| 10 | 67 - 76 |\n",
    "|Risk Perception| 2 | 77 - 78 |\n",
    "|Political Ideology| 1 | 79 | \n",
    "|Moral Circle| 1 | 80 | \n",
    "|Pysical Health| 1 | 81 | \n",
    "|Cognitive Reflection Test| 3 | 82 - 84 |\n",
    "|Sex| 2 | 85 - 86 | \n",
    "|Age| 1 | 87 |\n",
    "|Marital Status| 1 | 88 |\n",
    "|Number of Children| 1 | 89 | \n",
    "|Employment Status| 2 | 90 - 91 |\n",
    "|Ladder| 1 | 92 | \n",
    "|Urban?| 1 | 93 |\n",
    "|Tested Positive| 1 | 94 |\n",
    "|Known Tested Positive| 1 | 95 |\n"
   ]
  },
  {
   "cell_type": "markdown",
   "id": "13428314",
   "metadata": {},
   "source": [
    "Notice:\n",
    "- We will drop column for sex other input, as the sex column contains the other option.\n",
    "- We will drop column for employment status for the same reason.\n",
    "- We will drop column for Urban as there is no such information in the questionnaire at all."
   ]
  },
  {
   "cell_type": "markdown",
   "id": "fb7e5261",
   "metadata": {},
   "source": [
    "### Step 3: Imputation\n",
    "\n",
    "The mean value of the answers within the same catogory will be chosen for `NA` answer. If there is only one question within that category with an answer NA, that tuple will be dropped."
   ]
  },
  {
   "cell_type": "code",
   "execution_count": 138,
   "id": "94b28487",
   "metadata": {},
   "outputs": [
    {
     "name": "stdout",
     "output_type": "stream",
     "text": [
      "There are  778  out of  4600  pieces of data to be deleted.\n"
     ]
    }
   ],
   "source": [
    "def average(piece, s, e):\n",
    "    total = 0\n",
    "    number = 0\n",
    "    \n",
    "    for i in range(s, e):\n",
    "        if piece[i] == 'NA' or piece[i] == '':\n",
    "            continue\n",
    "        else:\n",
    "            total += float(piece[i])\n",
    "            number += 1\n",
    "    if number == 0:\n",
    "        return -1\n",
    "    else:\n",
    "        return total/number\n",
    "\n",
    "def process(data):\n",
    "    # set of indexes of tuples to be deleted\n",
    "    to_delete = set()\n",
    "    \n",
    "    for i in range(1, len(data)):\n",
    "        # processing one tuple\n",
    "\n",
    "        # pysical contact\n",
    "        for pair in [[7,11], [12,16], [17,21], [22,25], [26, 27], [28, 30], [31, 32], [33,36], [37,42], [43, 49], [50,51], [52, 55], [56, 59], [60, 60], [61, 66], [67, 76], [77, 78], [79, 79], [80, 80], [81, 81], [82, 84], [85, 85], [87, 87], [88, 88], [89, 89], [90, 90], [92, 92], [94, 94], [95, 95]]:\n",
    "            for j in range(pair[0], pair[1] + 1):\n",
    "                if data[i][j] == 'NA' or data[i][j] == '':\n",
    "                    if average(data[i], pair[0], pair[1] + 1) == -1:\n",
    "                        to_delete.add(i)\n",
    "                        break\n",
    "                    else:\n",
    "                        data[i][j] = average(data[i], pair[0], pair[1] + 1)\n",
    "                else:\n",
    "                    data[i][j] = float(data[i][j])\n",
    "                \n",
    "    return to_delete\n",
    "\n",
    "\n",
    "# imputation and record the number of tuples to be deleted\n",
    "imputation_data = data.copy()\n",
    "to_delete = process(imputation_data)\n",
    "print(\"There are \", len(to_delete), \" out of \", len(data) - 1, \" pieces of data to be deleted.\")"
   ]
  },
  {
   "cell_type": "markdown",
   "id": "5146dd48",
   "metadata": {},
   "source": [
    "### Step 4: Trim off unnecessary columns and data cleaning\n",
    "Some columns will be deleted as they contribute nothing to the discovery such as record id."
   ]
  },
  {
   "cell_type": "code",
   "execution_count": 139,
   "id": "a9777b40",
   "metadata": {},
   "outputs": [
    {
     "name": "stdout",
     "output_type": "stream",
     "text": [
      "3823\n",
      "96\n"
     ]
    }
   ],
   "source": [
    "data_to_use = []\n",
    "for i in range(0, len(imputation_data)):\n",
    "    if i in to_delete:\n",
    "        continue\n",
    "    else:\n",
    "        data_to_use.append(imputation_data[i])\n",
    "\n",
    "print(len(data_to_use))\n",
    "print(len(data_to_use[0]))"
   ]
  },
  {
   "cell_type": "code",
   "execution_count": 140,
   "id": "09fc8b27",
   "metadata": {},
   "outputs": [
    {
     "name": "stdout",
     "output_type": "stream",
     "text": [
      "3823\n",
      "86\n"
     ]
    }
   ],
   "source": [
    "to_delete_column = [0, 1, 2, 3, 4, 5, 6, 86, 91, 93]\n",
    "data_final = []\n",
    "for piece in data_to_use:\n",
    "    new_piece = []\n",
    "    for i in range(0, len(piece)):\n",
    "        if i in to_delete_column:\n",
    "            continue;\n",
    "        else:\n",
    "            new_piece.append(piece[i])\n",
    "    data_final.append(new_piece)\n",
    "print(len(data_final))\n",
    "print(len(data_final[0]))"
   ]
  },
  {
   "cell_type": "markdown",
   "id": "da81a4ea",
   "metadata": {},
   "source": [
    "## Models"
   ]
  },
  {
   "cell_type": "markdown",
   "id": "29780259",
   "metadata": {},
   "source": [
    "### Model 1: SVM"
   ]
  },
  {
   "cell_type": "code",
   "execution_count": 141,
   "id": "b4aa18c7",
   "metadata": {},
   "outputs": [],
   "source": [
    "data_data = [d[:-2] for d in data_final][1:]\n",
    "target_positive = [d[-2] for d in data_final][1:]\n",
    "target_known_positive = [d[-1] for d in data_final][1:]"
   ]
  },
  {
   "cell_type": "code",
   "execution_count": 142,
   "id": "3cef8572",
   "metadata": {},
   "outputs": [],
   "source": [
    "from sklearn.model_selection import train_test_split\n",
    "\n",
    "# 80% training 20% testing \n",
    "X_train, X_test, y_train, y_test = train_test_split(data_data, target_positive, test_size=0.2,random_state=109) "
   ]
  },
  {
   "cell_type": "code",
   "execution_count": 86,
   "id": "261abdb7",
   "metadata": {},
   "outputs": [],
   "source": [
    "from sklearn import svm\n",
    "clf = svm.SVC(kernel='linear')\n",
    "clf.fit(X_train, y_train)\n",
    "y_pred = clf.predict(X_test)"
   ]
  },
  {
   "cell_type": "code",
   "execution_count": 87,
   "id": "0564480c",
   "metadata": {},
   "outputs": [
    {
     "name": "stdout",
     "output_type": "stream",
     "text": [
      "Accuracy: 0.9686274509803922\n"
     ]
    }
   ],
   "source": [
    "from sklearn import metrics\n",
    "print(\"Accuracy:\",metrics.accuracy_score(y_test, y_pred))"
   ]
  },
  {
   "cell_type": "code",
   "execution_count": 114,
   "id": "6aa70cf7",
   "metadata": {},
   "outputs": [
    {
     "name": "stdout",
     "output_type": "stream",
     "text": [
      "Requirement already satisfied: tabulate in /Users/ardenguo/opt/anaconda3/lib/python3.9/site-packages (0.8.10)\n",
      "Note: you may need to restart the kernel to use updated packages.\n"
     ]
    }
   ],
   "source": [
    "pip install tabulate"
   ]
  },
  {
   "cell_type": "code",
   "execution_count": 129,
   "id": "9efd6b33",
   "metadata": {},
   "outputs": [
    {
     "name": "stdout",
     "output_type": "stream",
     "text": [
      "        Coef  Name\n",
      "------------  ----------------------\n",
      " 0.018489     physical_contact__5\n",
      " 0.0184068    social_belonging__4\n",
      " 0.0128968    Moral_ID__7\n",
      " 0.0127846    Conspiracy_theories__4\n",
      " 0.0119944    health_cond\n",
      " 0.0119354    physical_hygiene__2\n",
      " 0.0104806    Narcissism__2\n",
      " 0.00971893   Narcissism__4\n",
      " 0.00963583   morality_as_cooperat_5\n",
      " 0.00888014   trait_optimism_1\n",
      " 0.00859632   Narcissism__3\n",
      " 0.00817583   physical_hygiene__5\n",
      " 0.00807428   political_ideology\n",
      " 0.00778134   policy_support__1\n",
      " 0.00734784   social_belonging__1\n",
      " 0.00734322   SUM_GEN\n",
      " 0.00723017   collective_narcis__3\n",
      " 0.00694238   trait_self.control__3\n",
      " 0.00683051   Moral_ID__1\n",
      " 0.00652065   physical_contact__2\n",
      " 0.00543244   national_identity__1\n",
      " 0.00534509   policy_support__3\n",
      " 0.00505852   Moral_ID__5\n",
      " 0.00435093   physical_hygiene__3\n",
      " 0.00434038   Moral_ID__8\n",
      " 0.00430237   open_mindedness__3\n",
      " 0.00374671   morality_as_cooperat_7\n",
      " 0.00351578   morality_as_cooperat_2\n",
      " 0.00333359   Moral_ID__9\n",
      " 0.00262206   generosity__3\n",
      " 0.00237867   generosity__2\n",
      " 0.00234249   generosity__1\n",
      " 0.00223957   Moral_ID__10\n",
      " 0.00209897   trait_self.control__1\n",
      " 0.00201862   Ladder\n",
      " 0.00179002   trait_self.control__2\n",
      " 0.00159069   open_mindedness__2\n",
      " 0.00133104   risk_perception__1\n",
      " 0.00111628   physical_hygiene__4\n",
      " 0.000704057  open_mindedness__1\n",
      " 0.000640557  Narcissism__6\n",
      " 0.000443798  Moral_ID__3\n",
      " 9.58772e-05  children\n",
      " 9.53002e-05  Moral_ID__4\n",
      " 1.04167e-05  moral_circle\n",
      "-2.12128e-05  CRT1\n",
      "-0.000162248  collective_narcis__2\n",
      "-0.000198939  CRT3\n",
      "-0.000344206  age\n",
      "-0.000587051  psych_wellbeing1\n",
      "-0.000728444  Narcissism__1\n",
      "-0.00103779   risk_perception__2\n",
      "-0.00132675   trait_self.control__4\n",
      "-0.00147702   Conspiracy_theories__3\n",
      "-0.00206407   Moral_ID__2\n",
      "-0.00233125   collective_narcis__1\n",
      "-0.00236342   Narcissism__5\n",
      "-0.0027164    open_mindedness__6\n",
      "-0.00277168   policy_support__2\n",
      "-0.00279943   social_belonging__2\n",
      "-0.00299766   Moral_ID__6\n",
      "-0.00406752   morality_as_cooperat_4\n",
      "-0.00438355   physical_contact__1\n",
      "-0.00482771   psych_wellbeing2\n",
      "-0.00499085   morality_as_cooperat_1\n",
      "-0.00526776   Conspiracy_theories__1\n",
      "-0.00540007   open_mindedness__5\n",
      "-0.00557763   physical_contact__3\n",
      "-0.00562338   physical_contact__4\n",
      "-0.00576028   sex\n",
      "-0.00614733   policy_support__5\n",
      "-0.00664025   CRT2\n",
      "-0.00771678   marit_status\n",
      "-0.00888921   morality_as_cooperat_3\n",
      "-0.00919194   trait_optimism_2\n",
      "-0.00955033   morality_as_cooperat_6\n",
      "-0.00967      Self.esteem\n",
      "-0.0109185    Conspiracy_theories__2\n",
      "-0.0129894    physical_hygiene__1\n",
      "-0.0129956    open_mindedness__4\n",
      "-0.0135942    employ_status\n",
      "-0.0142552    policy_support__4\n",
      "-0.0179038    national_identity__2\n",
      "-0.0196113    social_belonging__3\n"
     ]
    }
   ],
   "source": [
    "from tabulate import tabulate\n",
    "\n",
    "def print_importances_table(coef, names):\n",
    "    yx = list(zip(clf.coef_[0], names))\n",
    "    yx.sort()\n",
    "    yx.reverse()\n",
    "    print(tabulate(yx, headers=[\"Coef\", \"Name\"]))\n",
    "    \n",
    "names = [d[:-2] for d in data_final][0]\n",
    "print_importances_table(clf.coef_, names)"
   ]
  },
  {
   "cell_type": "markdown",
   "id": "95b31b05",
   "metadata": {},
   "source": [
    "### Model 2: Logistic Regression"
   ]
  },
  {
   "cell_type": "code",
   "execution_count": 152,
   "id": "bf64c3a7",
   "metadata": {},
   "outputs": [],
   "source": [
    "from sklearn.linear_model import LogisticRegression\n",
    "\n",
    "logreg = LogisticRegression(solver='lbfgs', max_iter=10000)\n",
    "logreg.fit(X_train, y_train)\n",
    "y_pred2 = logreg.predict(X_test)"
   ]
  },
  {
   "cell_type": "code",
   "execution_count": 153,
   "id": "3f738dd4",
   "metadata": {},
   "outputs": [
    {
     "name": "stdout",
     "output_type": "stream",
     "text": [
      "Accuracy: 0.9673202614379085\n"
     ]
    }
   ],
   "source": [
    "print(\"Accuracy:\",metrics.accuracy_score(y_test, y_pred2))"
   ]
  },
  {
   "cell_type": "code",
   "execution_count": 154,
   "id": "5acbbcbe",
   "metadata": {},
   "outputs": [
    {
     "name": "stdout",
     "output_type": "stream",
     "text": [
      "        Coef  Name\n",
      "------------  ----------------------\n",
      " 0.018489     physical_contact__5\n",
      " 0.0184068    social_belonging__4\n",
      " 0.0128968    Moral_ID__7\n",
      " 0.0127846    Conspiracy_theories__4\n",
      " 0.0119944    health_cond\n",
      " 0.0119354    physical_hygiene__2\n",
      " 0.0104806    Narcissism__2\n",
      " 0.00971893   Narcissism__4\n",
      " 0.00963583   morality_as_cooperat_5\n",
      " 0.00888014   trait_optimism_1\n",
      " 0.00859632   Narcissism__3\n",
      " 0.00817583   physical_hygiene__5\n",
      " 0.00807428   political_ideology\n",
      " 0.00778134   policy_support__1\n",
      " 0.00734784   social_belonging__1\n",
      " 0.00734322   SUM_GEN\n",
      " 0.00723017   collective_narcis__3\n",
      " 0.00694238   trait_self.control__3\n",
      " 0.00683051   Moral_ID__1\n",
      " 0.00652065   physical_contact__2\n",
      " 0.00543244   national_identity__1\n",
      " 0.00534509   policy_support__3\n",
      " 0.00505852   Moral_ID__5\n",
      " 0.00435093   physical_hygiene__3\n",
      " 0.00434038   Moral_ID__8\n",
      " 0.00430237   open_mindedness__3\n",
      " 0.00374671   morality_as_cooperat_7\n",
      " 0.00351578   morality_as_cooperat_2\n",
      " 0.00333359   Moral_ID__9\n",
      " 0.00262206   generosity__3\n",
      " 0.00237867   generosity__2\n",
      " 0.00234249   generosity__1\n",
      " 0.00223957   Moral_ID__10\n",
      " 0.00209897   trait_self.control__1\n",
      " 0.00201862   Ladder\n",
      " 0.00179002   trait_self.control__2\n",
      " 0.00159069   open_mindedness__2\n",
      " 0.00133104   risk_perception__1\n",
      " 0.00111628   physical_hygiene__4\n",
      " 0.000704057  open_mindedness__1\n",
      " 0.000640557  Narcissism__6\n",
      " 0.000443798  Moral_ID__3\n",
      " 9.58772e-05  children\n",
      " 9.53002e-05  Moral_ID__4\n",
      " 1.04167e-05  moral_circle\n",
      "-2.12128e-05  CRT1\n",
      "-0.000162248  collective_narcis__2\n",
      "-0.000198939  CRT3\n",
      "-0.000344206  age\n",
      "-0.000587051  psych_wellbeing1\n",
      "-0.000728444  Narcissism__1\n",
      "-0.00103779   risk_perception__2\n",
      "-0.00132675   trait_self.control__4\n",
      "-0.00147702   Conspiracy_theories__3\n",
      "-0.00206407   Moral_ID__2\n",
      "-0.00233125   collective_narcis__1\n",
      "-0.00236342   Narcissism__5\n",
      "-0.0027164    open_mindedness__6\n",
      "-0.00277168   policy_support__2\n",
      "-0.00279943   social_belonging__2\n",
      "-0.00299766   Moral_ID__6\n",
      "-0.00406752   morality_as_cooperat_4\n",
      "-0.00438355   physical_contact__1\n",
      "-0.00482771   psych_wellbeing2\n",
      "-0.00499085   morality_as_cooperat_1\n",
      "-0.00526776   Conspiracy_theories__1\n",
      "-0.00540007   open_mindedness__5\n",
      "-0.00557763   physical_contact__3\n",
      "-0.00562338   physical_contact__4\n",
      "-0.00576028   sex\n",
      "-0.00614733   policy_support__5\n",
      "-0.00664025   CRT2\n",
      "-0.00771678   marit_status\n",
      "-0.00888921   morality_as_cooperat_3\n",
      "-0.00919194   trait_optimism_2\n",
      "-0.00955033   morality_as_cooperat_6\n",
      "-0.00967      Self.esteem\n",
      "-0.0109185    Conspiracy_theories__2\n",
      "-0.0129894    physical_hygiene__1\n",
      "-0.0129956    open_mindedness__4\n",
      "-0.0135942    employ_status\n",
      "-0.0142552    policy_support__4\n",
      "-0.0179038    national_identity__2\n",
      "-0.0196113    social_belonging__3\n"
     ]
    }
   ],
   "source": [
    "print_importances_table(logreg.coef_, names)"
   ]
  }
 ],
 "metadata": {
  "kernelspec": {
   "display_name": "Python 3 (ipykernel)",
   "language": "python",
   "name": "python3"
  },
  "language_info": {
   "codemirror_mode": {
    "name": "ipython",
    "version": 3
   },
   "file_extension": ".py",
   "mimetype": "text/x-python",
   "name": "python",
   "nbconvert_exporter": "python",
   "pygments_lexer": "ipython3",
   "version": "3.9.13"
  }
 },
 "nbformat": 4,
 "nbformat_minor": 5
}
